{
 "cells": [
  {
   "cell_type": "markdown",
   "metadata": {},
   "source": [
    "# Q.11 Write a python program to find the factorial of a number"
   ]
  },
  {
   "cell_type": "code",
   "execution_count": 1,
   "metadata": {},
   "outputs": [
    {
     "name": "stdout",
     "output_type": "stream",
     "text": [
      "Enter number:5\n",
      "Factorial= 120\n"
     ]
    }
   ],
   "source": [
    "i=int(input('Enter number:'))\n",
    "fac=1\n",
    "while(i>0):\n",
    "    fac=fac*i\n",
    "    i=i-1\n",
    "print('Factorial=',fac)    "
   ]
  },
  {
   "cell_type": "markdown",
   "metadata": {},
   "source": [
    "# Q.12  Write a python program to find whether a number is prime or composite"
   ]
  },
  {
   "cell_type": "code",
   "execution_count": 4,
   "metadata": {},
   "outputs": [
    {
     "name": "stdout",
     "output_type": "stream",
     "text": [
      "Enter number:11\n",
      "prime number\n"
     ]
    }
   ],
   "source": [
    "n=int(input('Enter number:'))\n",
    "count=0\n",
    "i=1\n",
    "while(i<=n):\n",
    "    if(n%i==0):\n",
    "        count=count+1\n",
    "    i=i+1\n",
    "if(count==2):\n",
    "    print('prime number')\n",
    "else:\n",
    "    print('composite number')"
   ]
  },
  {
   "cell_type": "markdown",
   "metadata": {},
   "source": [
    "# Q.14  Write a Python program to get the third side of right-angled triangle from two given sides"
   ]
  },
  {
   "cell_type": "code",
   "execution_count": 15,
   "metadata": {},
   "outputs": [
    {
     "name": "stdout",
     "output_type": "stream",
     "text": [
      "Enter the length of base: 3\n",
      "Enter the length of height: 4\n",
      "the length of hypotenuse is: 5.0\n"
     ]
    }
   ],
   "source": [
    "from math import sqrt   # we have to import sqrt from math otherwise facing error!\n",
    "\n",
    "base=float(input('Enter the length of base: '))\n",
    "height=float(input('Enter the length of height: '))\n",
    "\n",
    "hypotenuse=sqrt(base**2+height**2)\n",
    "print('the length of hypotenuse is:',hypotenuse)"
   ]
  },
  {
   "cell_type": "markdown",
   "metadata": {},
   "source": [
    "# Q.15  Write a python program to print the frequency of each of the characters present in a given string"
   ]
  },
  {
   "cell_type": "code",
   "execution_count": 9,
   "metadata": {},
   "outputs": [
    {
     "name": "stdout",
     "output_type": "stream",
     "text": [
      "Enter the stringmy name is vishnu rathore\n",
      "{'m': 2, 'y': 1, ' ': 4, 'n': 2, 'a': 2, 'e': 2, 'i': 2, 's': 2, 'v': 1, 'h': 2, 'u': 1, 'r': 2, 't': 1, 'o': 1}\n"
     ]
    }
   ],
   "source": [
    "str1=input('Enter the string')\n",
    "d1=dict() #create empty dictionary!\n",
    "for c in str1:\n",
    "    if c in d1:\n",
    "        d1[c]=d1[c]+1\n",
    "    else:\n",
    "        d1[c]=1\n",
    "print(d1)        "
   ]
  },
  {
   "cell_type": "markdown",
   "metadata": {},
   "source": [
    "# Q.12 Write a python program to check whether a given string is palindrome or not."
   ]
  },
  {
   "cell_type": "code",
   "execution_count": 14,
   "metadata": {},
   "outputs": [
    {
     "name": "stdout",
     "output_type": "stream",
     "text": [
      "enter the string :madam\n",
      "this is palindrome string\n"
     ]
    }
   ],
   "source": [
    "a=input('enter the string :')\n",
    "b=a[-1::-1]    #indexing b=a[start value:end value:step size]\n",
    "if(a==b):\n",
    "    print('this is palindrome string')\n",
    "else:\n",
    "    print('this is not palindrome string')"
   ]
  },
  {
   "cell_type": "code",
   "execution_count": null,
   "metadata": {},
   "outputs": [],
   "source": []
  }
 ],
 "metadata": {
  "kernelspec": {
   "display_name": "Python 3",
   "language": "python",
   "name": "python3"
  },
  "language_info": {
   "codemirror_mode": {
    "name": "ipython",
    "version": 3
   },
   "file_extension": ".py",
   "mimetype": "text/x-python",
   "name": "python",
   "nbconvert_exporter": "python",
   "pygments_lexer": "ipython3",
   "version": "3.8.5"
  }
 },
 "nbformat": 4,
 "nbformat_minor": 4
}
